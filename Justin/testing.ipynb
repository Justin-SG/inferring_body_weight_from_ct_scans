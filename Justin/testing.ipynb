{
 "cells": [
  {
   "cell_type": "code",
   "execution_count": 1,
   "metadata": {},
   "outputs": [
    {
     "name": "stdout",
     "output_type": "stream",
     "text": [
      "[(255, 0, 0), (255, 13, 0), (255, 26, 0), (255, 39, 0), (255, 52, 0), (255, 65, 0), (255, 78, 0), (255, 92, 0), (255, 105, 0), (255, 118, 0), (255, 131, 0), (255, 144, 0), (255, 157, 0), (255, 170, 0), (255, 183, 0), (255, 196, 0), (255, 209, 0), (255, 222, 0), (255, 235, 0), (255, 248, 0), (248, 255, 0), (235, 255, 0), (222, 255, 0), (209, 255, 0), (196, 255, 0), (183, 255, 0), (170, 255, 0), (157, 255, 0), (144, 255, 0), (131, 255, 0), (118, 255, 0), (105, 255, 0), (92, 255, 0), (78, 255, 0), (65, 255, 0), (52, 255, 0), (39, 255, 0), (26, 255, 0), (13, 255, 0), (0, 255, 0), (0, 255, 13), (0, 255, 26), (0, 255, 39), (0, 255, 52), (0, 255, 65), (0, 255, 78), (0, 255, 92), (0, 255, 105), (0, 255, 118), (0, 255, 131), (0, 255, 144), (0, 255, 157), (0, 255, 170), (0, 255, 183), (0, 255, 196), (0, 255, 209), (0, 255, 222), (0, 255, 235), (0, 255, 248), (0, 248, 255), (0, 235, 255), (0, 222, 255), (0, 209, 255), (0, 196, 255), (0, 183, 255), (0, 170, 255), (0, 157, 255), (0, 144, 255), (0, 131, 255), (0, 118, 255), (0, 105, 255), (0, 92, 255), (0, 78, 255), (0, 65, 255), (0, 52, 255), (0, 39, 255), (0, 26, 255), (0, 13, 255), (0, 0, 255), (13, 0, 255), (26, 0, 255), (39, 0, 255), (52, 0, 255), (65, 0, 255), (78, 0, 255), (92, 0, 255), (105, 0, 255), (118, 0, 255), (131, 0, 255), (144, 0, 255), (157, 0, 255), (170, 0, 255), (183, 0, 255), (196, 0, 255), (209, 0, 255), (222, 0, 255), (235, 0, 255), (248, 0, 255), (255, 0, 248), (255, 0, 235), (255, 0, 222), (255, 0, 209), (255, 0, 196), (255, 0, 183), (255, 0, 170), (255, 0, 157), (255, 0, 144), (255, 0, 131), (255, 0, 118), (255, 0, 105), (255, 0, 92), (255, 0, 78), (255, 0, 65), (255, 0, 52), (255, 0, 39), (255, 0, 26), (255, 0, 13)]\n"
     ]
    }
   ],
   "source": [
    "import colorsys\n",
    "\n",
    "def generate_colors(num_colors):\n",
    "    # Initialize an empty list to store generated colors\n",
    "    colors = []\n",
    "\n",
    "    # Generate equally spaced hues\n",
    "    hue_step = 360 / num_colors\n",
    "    for i in range(num_colors):\n",
    "        # Calculate the current hue\n",
    "        hue = i * hue_step\n",
    "        # Convert HSL to RGB\n",
    "        rgb = colorsys.hls_to_rgb(hue / 360, 0.5, 1)\n",
    "        # Scale RGB values to 0-255 and round them\n",
    "        rgb = tuple(round(x * 255) for x in rgb)\n",
    "        colors.append(rgb)\n",
    "\n",
    "    return colors\n",
    "\n",
    "# Generate 117 unique colors\n",
    "num_colors = 117\n",
    "unique_colors = generate_colors(num_colors)\n",
    "print(unique_colors)"
   ]
  },
  {
   "cell_type": "code",
   "execution_count": 12,
   "metadata": {},
   "outputs": [],
   "source": [
    "import nibabel as nib\n",
    "import numpy as np\n",
    "\n",
    "# Load NIfTI files\n",
    "file_paths = [\"C:/Users/schoe/Desktop/inferring_body_weight_from_ct_scans/test/heart.nii.gz\", \"C:/Users/schoe/Desktop/inferring_body_weight_from_ct_scans/test/kidney_right.nii.gz\", \"C:/Users/schoe/Desktop/inferring_body_weight_from_ct_scans/test/kidney_left.nii.gz\"]\n",
    "nii_objects = [nib.load(file_path) for file_path in file_paths]\n",
    "\n",
    "# Ensure compatibility (dimensions, orientations, voxel sizes, etc.)\n",
    "\n",
    "# Get data from each NIfTI file\n",
    "data_arrays = [nii.get_fdata() for nii in nii_objects]"
   ]
  },
  {
   "cell_type": "code",
   "execution_count": 13,
   "metadata": {},
   "outputs": [],
   "source": [
    "# Multiply each data array by its index in the list\n",
    "# This will create unique values for each data array\n",
    "multiplied_data_arrays = [data_array * (i + 1) for i, data_array in enumerate(data_arrays)]"
   ]
  },
  {
   "cell_type": "code",
   "execution_count": 14,
   "metadata": {},
   "outputs": [
    {
     "name": "stdout",
     "output_type": "stream",
     "text": [
      "0.0 1.0\n",
      "[0. 1.]\n"
     ]
    }
   ],
   "source": [
    "# find smalles and largest value in all data arrays\n",
    "min_value = min([np.min(data) for data in data_arrays])\n",
    "max_value = max([np.max(data) for data in data_arrays])\n",
    "\n",
    "all_unique_values = np.unique(np.concatenate(data_arrays))\n",
    "\n",
    "print(min_value, max_value)\n",
    "print(all_unique_values)"
   ]
  },
  {
   "cell_type": "code",
   "execution_count": 15,
   "metadata": {},
   "outputs": [
    {
     "name": "stdout",
     "output_type": "stream",
     "text": [
      "0.0 3.0\n",
      "[0. 1. 2. 3.]\n"
     ]
    }
   ],
   "source": [
    "# find smalles and largest value in all data arrays\n",
    "min_value = min([np.min(data) for data in multiplied_data_arrays])\n",
    "max_value = max([np.max(data) for data in multiplied_data_arrays])\n",
    "\n",
    "all_unique_values = np.unique(np.concatenate(multiplied_data_arrays))\n",
    "\n",
    "print(min_value, max_value)\n",
    "print(all_unique_values)"
   ]
  },
  {
   "cell_type": "code",
   "execution_count": 17,
   "metadata": {},
   "outputs": [],
   "source": [
    "# Combine all data arrays into a single array, by overlaying them.\n",
    "# Take all values from the first array, and replace zeros with values from the second array, and so on.\n",
    "combined_data_array = np.zeros(data_arrays[0].shape)\n",
    "for data_array in multiplied_data_arrays:\n",
    "    combined_data_array = np.where(combined_data_array == 0, data_array, combined_data_array)"
   ]
  },
  {
   "cell_type": "code",
   "execution_count": 19,
   "metadata": {},
   "outputs": [
    {
     "name": "stdout",
     "output_type": "stream",
     "text": [
      "0.0 3.0\n",
      "[0. 1. 2. 3.]\n"
     ]
    }
   ],
   "source": [
    "# find smalles and largest value in all data arrays\n",
    "min_value = min([np.min(data) for data in combined_data_array])\n",
    "max_value = max([np.max(data) for data in combined_data_array])\n",
    "\n",
    "all_unique_values = np.unique(np.concatenate(combined_data_array))\n",
    "\n",
    "print(min_value, max_value)\n",
    "print(all_unique_values)"
   ]
  },
  {
   "cell_type": "code",
   "execution_count": 20,
   "metadata": {},
   "outputs": [
    {
     "data": {
      "text/plain": [
       "(512, 512, 293)"
      ]
     },
     "execution_count": 20,
     "metadata": {},
     "output_type": "execute_result"
    }
   ],
   "source": [
    "combined_data_array.shape"
   ]
  },
  {
   "cell_type": "code",
   "execution_count": 21,
   "metadata": {},
   "outputs": [
    {
     "data": {
      "text/plain": [
       "array([[[0., 0., 0., ..., 0., 0., 0.],\n",
       "        [0., 0., 0., ..., 0., 0., 0.],\n",
       "        [0., 0., 0., ..., 0., 0., 0.],\n",
       "        ...,\n",
       "        [0., 0., 0., ..., 0., 0., 0.],\n",
       "        [0., 0., 0., ..., 0., 0., 0.],\n",
       "        [0., 0., 0., ..., 0., 0., 0.]],\n",
       "\n",
       "       [[0., 0., 0., ..., 0., 0., 0.],\n",
       "        [0., 0., 0., ..., 0., 0., 0.],\n",
       "        [0., 0., 0., ..., 0., 0., 0.],\n",
       "        ...,\n",
       "        [0., 0., 0., ..., 0., 0., 0.],\n",
       "        [0., 0., 0., ..., 0., 0., 0.],\n",
       "        [0., 0., 0., ..., 0., 0., 0.]],\n",
       "\n",
       "       [[0., 0., 0., ..., 0., 0., 0.],\n",
       "        [0., 0., 0., ..., 0., 0., 0.],\n",
       "        [0., 0., 0., ..., 0., 0., 0.],\n",
       "        ...,\n",
       "        [0., 0., 0., ..., 0., 0., 0.],\n",
       "        [0., 0., 0., ..., 0., 0., 0.],\n",
       "        [0., 0., 0., ..., 0., 0., 0.]],\n",
       "\n",
       "       ...,\n",
       "\n",
       "       [[0., 0., 0., ..., 0., 0., 0.],\n",
       "        [0., 0., 0., ..., 0., 0., 0.],\n",
       "        [0., 0., 0., ..., 0., 0., 0.],\n",
       "        ...,\n",
       "        [0., 0., 0., ..., 0., 0., 0.],\n",
       "        [0., 0., 0., ..., 0., 0., 0.],\n",
       "        [0., 0., 0., ..., 0., 0., 0.]],\n",
       "\n",
       "       [[0., 0., 0., ..., 0., 0., 0.],\n",
       "        [0., 0., 0., ..., 0., 0., 0.],\n",
       "        [0., 0., 0., ..., 0., 0., 0.],\n",
       "        ...,\n",
       "        [0., 0., 0., ..., 0., 0., 0.],\n",
       "        [0., 0., 0., ..., 0., 0., 0.],\n",
       "        [0., 0., 0., ..., 0., 0., 0.]],\n",
       "\n",
       "       [[0., 0., 0., ..., 0., 0., 0.],\n",
       "        [0., 0., 0., ..., 0., 0., 0.],\n",
       "        [0., 0., 0., ..., 0., 0., 0.],\n",
       "        ...,\n",
       "        [0., 0., 0., ..., 0., 0., 0.],\n",
       "        [0., 0., 0., ..., 0., 0., 0.],\n",
       "        [0., 0., 0., ..., 0., 0., 0.]]])"
      ]
     },
     "execution_count": 21,
     "metadata": {},
     "output_type": "execute_result"
    }
   ],
   "source": [
    "combined_data_array"
   ]
  },
  {
   "cell_type": "code",
   "execution_count": 22,
   "metadata": {},
   "outputs": [],
   "source": [
    "# Create a new NIfTI image with the merged data\n",
    "merged_nii = nib.Nifti1Image(combined_data_array, affine=nii_objects[0].affine)\n",
    "\n",
    "# Save the merged NIfTI file\n",
    "nib.save(merged_nii, \"C:/Users/schoe/Desktop/inferring_body_weight_from_ct_scans/combined_test/combined_scan.nii.gz\")"
   ]
  }
 ],
 "metadata": {
  "kernelspec": {
   "display_name": "RnD",
   "language": "python",
   "name": "python3"
  },
  "language_info": {
   "codemirror_mode": {
    "name": "ipython",
    "version": 3
   },
   "file_extension": ".py",
   "mimetype": "text/x-python",
   "name": "python",
   "nbconvert_exporter": "python",
   "pygments_lexer": "ipython3",
   "version": "3.11.9"
  }
 },
 "nbformat": 4,
 "nbformat_minor": 2
}
