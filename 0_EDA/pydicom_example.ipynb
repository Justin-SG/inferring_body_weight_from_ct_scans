{
 "cells": [
  {
   "cell_type": "code",
   "execution_count": null,
   "metadata": {},
   "outputs": [],
   "source": [
    "# Import necessary libraries\n",
    "import os\n",
    "import pydicom as dicom\n",
    "from zipfile import ZipFile\n",
    "from matplotlib import pyplot as plt\n",
    "\n",
    "# Set the scan identifier and paths\n",
    "scan = '1001EE27'\n",
    "path = f'{scan}.zip'\n",
    "target = 'CT'\n",
    "\n",
    "# Extract DICOM files from the ZIP archive\n",
    "with ZipFile(path, 'r') as zip_ref:\n",
    "    zip_ref.extractall(target)\n",
    "\n",
    "# List DICOM files in the target directory\n",
    "slices = os.listdir(f'{target}/{scan}/')\n",
    "\n",
    "# Read the first DICOM file in the series\n",
    "path = f'{target}/{scan}/{slices[0]}'\n",
    "scan_frame = dicom.dcmread(path, force=True)\n",
    "\n",
    "# Print DICOM attributes\n",
    "# Print all attributes\n",
    "print(scan_frame.dir())\n",
    "\n",
    "# Print specific attributes\n",
    "print(scan_frame.PatientName)\n",
    "print(scan_frame.PatientWeight)\n",
    "print(scan_frame.PatientSex)\n",
    "print(scan_frame.SeriesNumber)\n",
    "print(scan_frame.AcquisitionDateTime)\n",
    "print(scan_frame.ImageType)\n",
    "\n",
    "# Display the DICOM image using matplotlib\n",
    "plt.imshow(scan_frame.pixel_array, cmap=plt.cm.bone)\n",
    "plt.title(path)\n",
    "plt.show()"
   ]
  }
 ],
 "metadata": {
  "language_info": {
   "name": "python"
  }
 },
 "nbformat": 4,
 "nbformat_minor": 2
}
