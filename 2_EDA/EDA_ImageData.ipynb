{
 "cells": [
  {
   "cell_type": "code",
   "execution_count": null,
   "id": "initial_id",
   "metadata": {
    "collapsed": true
   },
   "outputs": [],
   "source": [
    "import pandas as pd\n",
    "%matplotlib notebook"
   ]
  },
  {
   "metadata": {},
   "cell_type": "code",
   "outputs": [],
   "execution_count": null,
   "source": [
    "df1 = pd.read_feather('../1_Data_Extraction/Data/dicom_df_0.feather')\n",
    "df2 = pd.read_feather('../1_Data_Extraction/Data/dicom_df_1.feather')\n",
    "df3 = pd.read_feather('../1_Data_Extraction/Data/dicom_df_2.feather')\n",
    "df4 = pd.read_feather('../1_Data_Extraction/Data/dicom_df_3.feather')\n",
    "df5 = pd.read_feather('../1_Data_Extraction/Data/dicom_df_4.feather')\n",
    "df6 = pd.read_feather('../1_Data_Extraction/Data/dicom_df_5.feather')\n",
    "df7 = pd.read_feather('../1_Data_Extraction/Data/dicom_df_6.feather')"
   ],
   "id": "5bcf83b0198626cd"
  },
  {
   "metadata": {},
   "cell_type": "code",
   "outputs": [],
   "execution_count": null,
   "source": "df = pd.concat([df1, df2, df3, df4, df5, df6, df7])",
   "id": "c5894f0fdd08a8ee"
  },
  {
   "metadata": {},
   "cell_type": "code",
   "outputs": [],
   "execution_count": null,
   "source": "df.head()",
   "id": "34a6b151c543c4fc"
  },
  {
   "metadata": {},
   "cell_type": "code",
   "outputs": [],
   "execution_count": null,
   "source": [
    "df_small = df[[\"PatientId\",\"PatientWeight\",\"PatientSize\",\"PatientAge\",\"PatientSex\", \"BodyPartExamined\", \"ProcedureCodeSequence.CodeMeaning\",\"Rows\",\"Columns\",\"SliceCount\",\"PixelSpacing\",\"SliceThickness\", \"PixelArrayFlat\"]]\n",
    "df_small"
   ],
   "id": "88031dbe308ee065"
  },
  {
   "metadata": {},
   "cell_type": "code",
   "outputs": [],
   "execution_count": null,
   "source": [
    "import matplotlib.pyplot as plt\n",
    "\n",
    "scan = df1.iloc[2]\n",
    "array = scan['PixelArrayFlat'].reshape((scan['SliceCount'], scan['Rows'], scan['Columns']))\n",
    "print(\"Array shape:\", array.shape)\n",
    "print(\"PixelSpacing:\", scan['PixelSpacing'], \"SliceThickness:\", scan['SliceThickness'])\n",
    "# pixel aspects, assuming all slices are the same\n",
    "pixel_spacing = scan.PixelSpacing\n",
    "slice_thickness = scan.SliceThickness\n",
    "ax_aspect = pixel_spacing[1] / pixel_spacing[0]\n",
    "sag_aspect = pixel_spacing[1] / slice_thickness\n",
    "cor_aspect = slice_thickness / pixel_spacing[0]"
   ],
   "id": "3d710a6dfa191880"
  },
  {
   "metadata": {},
   "cell_type": "code",
   "outputs": [],
   "execution_count": null,
   "source": [
    "from matplotlib import animation\n",
    "\n",
    "scan3d = array\n",
    "frames = scan['SliceCount']\n",
    "\n",
    "fig, ax = plt.subplots()\n",
    "im = plt.imshow(scan3d[0,:,:], cmap=plt.cm.bone, aspect=ax_aspect)\n",
    "ax.set_title(\"Axial\")\n",
    "\n",
    "def update(frame):\n",
    "    im.set_array(scan3d[frame, :, :])\n",
    "    return im\n",
    "\n",
    "\n",
    "anim = animation.FuncAnimation(fig=fig, func=update, frames=frames, interval=100)\n",
    "plt.show()"
   ],
   "id": "8afdd02c25728c75"
  },
  {
   "metadata": {},
   "cell_type": "code",
   "outputs": [],
   "execution_count": null,
   "source": [
    "scan3d = array\n",
    "frames = scan['Rows']\n",
    "\n",
    "fig, ax = plt.subplots()\n",
    "im = plt.imshow(scan3d[:,0,:], cmap=plt.cm.bone, aspect=cor_aspect)\n",
    "ax.set_title(\"Frontal\")\n",
    "\n",
    "def update(frame):\n",
    "    im.set_array(scan3d[:, frame, :])\n",
    "    return im\n",
    "\n",
    "anim = animation.FuncAnimation(fig=fig, func=update, frames=frames, interval=100)\n",
    "plt.show()"
   ],
   "id": "4352c032b35f380b"
  },
  {
   "metadata": {},
   "cell_type": "code",
   "outputs": [],
   "execution_count": null,
   "source": [
    "scan3d = array\n",
    "frames = scan['Columns']\n",
    "\n",
    "fig, ax = plt.subplots()\n",
    "im = plt.imshow(scan3d[:,:,0].T, cmap=plt.cm.bone, aspect=sag_aspect)\n",
    "ax.set_title(\"Saggital\")\n",
    "\n",
    "def update(frame):\n",
    "    im.set_array(scan3d[:, :, frame])\n",
    "    return im\n",
    "\n",
    "anim = animation.FuncAnimation(fig=fig, func=update, frames=frames, interval=100)\n",
    "plt.show()"
   ],
   "id": "486b35f639ad960b"
  }
 ],
 "metadata": {
  "kernelspec": {
   "display_name": "Python 3",
   "language": "python",
   "name": "python3"
  },
  "language_info": {
   "codemirror_mode": {
    "name": "ipython",
    "version": 2
   },
   "file_extension": ".py",
   "mimetype": "text/x-python",
   "name": "python",
   "nbconvert_exporter": "python",
   "pygments_lexer": "ipython2",
   "version": "2.7.6"
  }
 },
 "nbformat": 4,
 "nbformat_minor": 5
}
