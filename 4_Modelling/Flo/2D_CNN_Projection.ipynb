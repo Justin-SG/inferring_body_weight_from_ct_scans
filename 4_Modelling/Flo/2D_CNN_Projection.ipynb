{
 "cells": [
  {
   "cell_type": "code",
   "id": "44c3f22f7e9d090e",
   "metadata": {
    "collapsed": true,
    "ExecuteTime": {
     "end_time": "2024-10-17T16:04:02.416293Z",
     "start_time": "2024-10-17T16:04:00.409971Z"
    }
   },
   "source": [
    "import sys\n",
    "import os\n",
    "import pandas as pd\n",
    "import numpy as np\n",
    "import torch\n",
    "from torch.utils.data import DataLoader, random_split\n",
    "from torchvision import transforms, models\n",
    "from torchvision.transforms import v2\n",
    "from CustomModels import CtWeightRegressorAdditionalParams2D"
   ],
   "outputs": [],
   "execution_count": 1
  },
  {
   "metadata": {
    "ExecuteTime": {
     "end_time": "2024-10-17T16:06:58.825187Z",
     "start_time": "2024-10-17T16:06:58.822182Z"
    }
   },
   "cell_type": "code",
   "source": [
    "from pathlib import Path\n",
    "from torch.utils.data import DataLoader, random_split\n",
    "# include ../../3_Datapreparation\n",
    "project_dir = Path(os.getcwd()).resolve().parent.parent\n",
    "sys.path.append(str(project_dir / '3_Data_Preparation'))\n",
    "from CT_Datasets import CtScanDataset, CtScanDatasetExtended"
   ],
   "id": "2a5202a698a87bec",
   "outputs": [],
   "execution_count": 7
  },
  {
   "metadata": {
    "ExecuteTime": {
     "end_time": "2024-10-17T16:04:02.578065Z",
     "start_time": "2024-10-17T16:04:02.429068Z"
    }
   },
   "cell_type": "code",
   "source": [
    "dataset = CtScanDataset(df_query='BodyPart == \"Stamm\"', transform=None)\n",
    "print(dataset[0][0].shape)\n",
    "dataset[0]"
   ],
   "id": "874346d0884cab10",
   "outputs": [
    {
     "name": "stdout",
     "output_type": "stream",
     "text": [
      "(567, 512, 512)\n"
     ]
    },
    {
     "data": {
      "text/plain": [
       "(array([[[0, 0, 0, ..., 0, 0, 0],\n",
       "         [0, 0, 0, ..., 0, 0, 0],\n",
       "         [0, 0, 0, ..., 0, 0, 0],\n",
       "         ...,\n",
       "         [0, 0, 0, ..., 0, 0, 0],\n",
       "         [0, 0, 0, ..., 0, 0, 0],\n",
       "         [0, 0, 0, ..., 0, 0, 0]],\n",
       " \n",
       "        [[0, 0, 0, ..., 0, 0, 0],\n",
       "         [0, 0, 0, ..., 0, 0, 0],\n",
       "         [0, 0, 0, ..., 0, 0, 0],\n",
       "         ...,\n",
       "         [0, 0, 0, ..., 0, 0, 0],\n",
       "         [0, 0, 0, ..., 0, 0, 0],\n",
       "         [0, 0, 0, ..., 0, 0, 0]],\n",
       " \n",
       "        [[0, 0, 0, ..., 0, 0, 0],\n",
       "         [0, 0, 0, ..., 0, 0, 0],\n",
       "         [0, 0, 0, ..., 0, 0, 0],\n",
       "         ...,\n",
       "         [0, 0, 0, ..., 0, 0, 0],\n",
       "         [0, 0, 0, ..., 0, 0, 0],\n",
       "         [0, 0, 0, ..., 0, 0, 0]],\n",
       " \n",
       "        ...,\n",
       " \n",
       "        [[0, 0, 0, ..., 0, 0, 0],\n",
       "         [0, 0, 0, ..., 0, 0, 0],\n",
       "         [0, 0, 0, ..., 0, 0, 0],\n",
       "         ...,\n",
       "         [0, 0, 0, ..., 0, 0, 0],\n",
       "         [0, 0, 0, ..., 0, 0, 0],\n",
       "         [0, 0, 0, ..., 0, 0, 0]],\n",
       " \n",
       "        [[0, 0, 0, ..., 0, 0, 0],\n",
       "         [0, 0, 0, ..., 0, 0, 0],\n",
       "         [0, 0, 0, ..., 0, 0, 0],\n",
       "         ...,\n",
       "         [0, 0, 0, ..., 0, 0, 0],\n",
       "         [0, 0, 0, ..., 0, 0, 0],\n",
       "         [0, 0, 0, ..., 0, 0, 0]],\n",
       " \n",
       "        [[0, 0, 0, ..., 0, 0, 0],\n",
       "         [0, 0, 0, ..., 0, 0, 0],\n",
       "         [0, 0, 0, ..., 0, 0, 0],\n",
       "         ...,\n",
       "         [0, 0, 0, ..., 0, 0, 0],\n",
       "         [0, 0, 0, ..., 0, 0, 0],\n",
       "         [0, 0, 0, ..., 0, 0, 0]]], dtype=uint16),\n",
       " 73.0)"
      ]
     },
     "execution_count": 3,
     "metadata": {},
     "output_type": "execute_result"
    }
   ],
   "execution_count": 3
  },
  {
   "metadata": {
    "ExecuteTime": {
     "end_time": "2024-10-17T16:07:01.120590Z",
     "start_time": "2024-10-17T16:07:01.117942Z"
    }
   },
   "cell_type": "code",
   "source": [
    "train_dataset, val_dataset = random_split(\n",
    "            dataset, [int(0.8 * len(dataset)), len(dataset) - int(0.8 * len(dataset))],\n",
    "            generator=torch.Generator().manual_seed(42)\n",
    "        )"
   ],
   "id": "10ab24a9e0381f08",
   "outputs": [],
   "execution_count": 8
  },
  {
   "metadata": {
    "ExecuteTime": {
     "end_time": "2024-10-17T16:35:20.771014Z",
     "start_time": "2024-10-17T16:35:20.737762Z"
    }
   },
   "cell_type": "code",
   "source": "train_dataset[0]",
   "id": "ec68a88d73c5120",
   "outputs": [
    {
     "data": {
      "text/plain": [
       "(array([[[0, 0, 0, ..., 0, 0, 0],\n",
       "         [0, 0, 0, ..., 0, 0, 0],\n",
       "         [0, 0, 0, ..., 0, 0, 0],\n",
       "         ...,\n",
       "         [0, 0, 0, ..., 0, 0, 0],\n",
       "         [0, 0, 0, ..., 0, 0, 0],\n",
       "         [0, 0, 0, ..., 0, 0, 0]],\n",
       " \n",
       "        [[0, 0, 0, ..., 0, 0, 0],\n",
       "         [0, 0, 0, ..., 0, 0, 0],\n",
       "         [0, 0, 0, ..., 0, 0, 0],\n",
       "         ...,\n",
       "         [0, 0, 0, ..., 0, 0, 0],\n",
       "         [0, 0, 0, ..., 0, 0, 0],\n",
       "         [0, 0, 0, ..., 0, 0, 0]],\n",
       " \n",
       "        [[0, 0, 0, ..., 0, 0, 0],\n",
       "         [0, 0, 0, ..., 0, 0, 0],\n",
       "         [0, 0, 0, ..., 0, 0, 0],\n",
       "         ...,\n",
       "         [0, 0, 0, ..., 0, 0, 0],\n",
       "         [0, 0, 0, ..., 0, 0, 0],\n",
       "         [0, 0, 0, ..., 0, 0, 0]],\n",
       " \n",
       "        ...,\n",
       " \n",
       "        [[0, 0, 0, ..., 0, 0, 0],\n",
       "         [0, 0, 0, ..., 0, 0, 0],\n",
       "         [0, 0, 0, ..., 0, 0, 0],\n",
       "         ...,\n",
       "         [0, 0, 0, ..., 0, 0, 0],\n",
       "         [0, 0, 0, ..., 0, 0, 0],\n",
       "         [0, 0, 0, ..., 0, 0, 0]],\n",
       " \n",
       "        [[0, 0, 0, ..., 0, 0, 0],\n",
       "         [0, 0, 0, ..., 0, 0, 0],\n",
       "         [0, 0, 0, ..., 0, 0, 0],\n",
       "         ...,\n",
       "         [0, 0, 0, ..., 0, 0, 0],\n",
       "         [0, 0, 0, ..., 0, 0, 0],\n",
       "         [0, 0, 0, ..., 0, 0, 0]],\n",
       " \n",
       "        [[0, 0, 0, ..., 0, 0, 0],\n",
       "         [0, 0, 0, ..., 0, 0, 0],\n",
       "         [0, 0, 0, ..., 0, 0, 0],\n",
       "         ...,\n",
       "         [0, 0, 0, ..., 0, 0, 0],\n",
       "         [0, 0, 0, ..., 0, 0, 0],\n",
       "         [0, 0, 0, ..., 0, 0, 0]]], dtype=uint16),\n",
       " 61.0)"
      ]
     },
     "execution_count": 13,
     "metadata": {},
     "output_type": "execute_result"
    }
   ],
   "execution_count": 13
  },
  {
   "metadata": {
    "ExecuteTime": {
     "end_time": "2024-09-02T12:46:49.349098Z",
     "start_time": "2024-09-02T12:46:49.163605Z"
    }
   },
   "cell_type": "code",
   "source": [
    "dataset_extended = CtScanDatasetExtended(df_query='BodyPart == \"Stamm\"', pixel_array_transform=None, imagenet_scaling_factor=True)\n",
    "print(dataset_extended[0][0].shape)\n",
    "dataset_extended[0]"
   ],
   "id": "39198f6f25162dd6",
   "outputs": [
    {
     "name": "stdout",
     "output_type": "stream",
     "text": [
      "(567, 512, 512)\n"
     ]
    },
    {
     "data": {
      "text/plain": [
       "(array([[[0, 0, 0, ..., 0, 0, 0],\n",
       "         [0, 0, 0, ..., 0, 0, 0],\n",
       "         [0, 0, 0, ..., 0, 0, 0],\n",
       "         ...,\n",
       "         [0, 0, 0, ..., 0, 0, 0],\n",
       "         [0, 0, 0, ..., 0, 0, 0],\n",
       "         [0, 0, 0, ..., 0, 0, 0]],\n",
       " \n",
       "        [[0, 0, 0, ..., 0, 0, 0],\n",
       "         [0, 0, 0, ..., 0, 0, 0],\n",
       "         [0, 0, 0, ..., 0, 0, 0],\n",
       "         ...,\n",
       "         [0, 0, 0, ..., 0, 0, 0],\n",
       "         [0, 0, 0, ..., 0, 0, 0],\n",
       "         [0, 0, 0, ..., 0, 0, 0]],\n",
       " \n",
       "        [[0, 0, 0, ..., 0, 0, 0],\n",
       "         [0, 0, 0, ..., 0, 0, 0],\n",
       "         [0, 0, 0, ..., 0, 0, 0],\n",
       "         ...,\n",
       "         [0, 0, 0, ..., 0, 0, 0],\n",
       "         [0, 0, 0, ..., 0, 0, 0],\n",
       "         [0, 0, 0, ..., 0, 0, 0]],\n",
       " \n",
       "        ...,\n",
       " \n",
       "        [[0, 0, 0, ..., 0, 0, 0],\n",
       "         [0, 0, 0, ..., 0, 0, 0],\n",
       "         [0, 0, 0, ..., 0, 0, 0],\n",
       "         ...,\n",
       "         [0, 0, 0, ..., 0, 0, 0],\n",
       "         [0, 0, 0, ..., 0, 0, 0],\n",
       "         [0, 0, 0, ..., 0, 0, 0]],\n",
       " \n",
       "        [[0, 0, 0, ..., 0, 0, 0],\n",
       "         [0, 0, 0, ..., 0, 0, 0],\n",
       "         [0, 0, 0, ..., 0, 0, 0],\n",
       "         ...,\n",
       "         [0, 0, 0, ..., 0, 0, 0],\n",
       "         [0, 0, 0, ..., 0, 0, 0],\n",
       "         [0, 0, 0, ..., 0, 0, 0]],\n",
       " \n",
       "        [[0, 0, 0, ..., 0, 0, 0],\n",
       "         [0, 0, 0, ..., 0, 0, 0],\n",
       "         [0, 0, 0, ..., 0, 0, 0],\n",
       "         ...,\n",
       "         [0, 0, 0, ..., 0, 0, 0],\n",
       "         [0, 0, 0, ..., 0, 0, 0],\n",
       "         [0, 0, 0, ..., 0, 0, 0]]], dtype=uint16),\n",
       " tensor([2.5312]),\n",
       " 73.0)"
      ]
     },
     "execution_count": 4,
     "metadata": {},
     "output_type": "execute_result"
    }
   ],
   "execution_count": 4
  },
  {
   "metadata": {
    "ExecuteTime": {
     "end_time": "2024-09-02T12:46:49.357770Z",
     "start_time": "2024-09-02T12:46:49.356235Z"
    }
   },
   "cell_type": "code",
   "source": "",
   "id": "d4919cc5613e9169",
   "outputs": [],
   "execution_count": null
  },
  {
   "metadata": {
    "ExecuteTime": {
     "end_time": "2024-09-02T12:46:49.386398Z",
     "start_time": "2024-09-02T12:46:49.377230Z"
    }
   },
   "cell_type": "code",
   "source": [
    "from Transforms import Transforms\n",
    "\n",
    "transforms = v2.Compose([\n",
    "    # change the data type to uint32 -> prevents overflow\n",
    "    v2.Lambda(lambda x: x.astype(np.float32)),\n",
    "    # sum up all the pixel values over an axis and project them onto a 2D plane (Axial Projection)\n",
    "    v2.Lambda(lambda x: x.sum(axis=2)),\n",
    "    # add color channel dimension\n",
    "    v2.Lambda(lambda x: x[:, :, np.newaxis]),\n",
    "    # repeat color channel 3 times (RGB)\n",
    "    v2.Lambda(lambda x: np.repeat(x, 3, axis=2)),\n",
    "    # To PIL Image (required for torchvision transforms)\n",
    "    v2.ToImage(),\n",
    "    # Scale images to 224x224\n",
    "    v2.Resize((224, 224), antialias=True),\n",
    "    # Normalize tensor values to range [0, 1] with lambda function\n",
    "    Transforms.ScaleTo01(),\n",
    "    # Normalize with mean and std\n",
    "    v2.Normalize(mean=[0.485, 0.456, 0.406], std=[0.229, 0.224, 0.225])\n",
    "])\n",
    "# apply the transform to the dataset\n",
    "transformed = CtScanDataset(df_query='BodyPart == \"Stamm\"', transform=transforms)"
   ],
   "id": "eb84eba7ecf7ee5b",
   "outputs": [],
   "execution_count": 5
  },
  {
   "metadata": {
    "ExecuteTime": {
     "end_time": "2024-09-02T12:46:49.666336Z",
     "start_time": "2024-09-02T12:46:49.403738Z"
    }
   },
   "cell_type": "code",
   "source": "transformed[0]",
   "id": "e0bda14afed0d018",
   "outputs": [
    {
     "data": {
      "text/plain": [
       "(tensor([[[-2.1125, -2.0913, -2.0751,  ..., -2.0278, -2.0550, -2.0909],\n",
       "          [-2.1126, -2.0914, -2.0752,  ..., -2.0276, -2.0550, -2.0909],\n",
       "          [-2.1126, -2.0913, -2.0752,  ..., -2.0266, -2.0543, -2.0905],\n",
       "          ...,\n",
       "          [-2.1133, -2.0927, -2.0765,  ..., -2.0393, -2.0634, -2.0952],\n",
       "          [-2.1126, -2.0918, -2.0754,  ..., -2.0384, -2.0628, -2.0947],\n",
       "          [-2.1119, -2.0904, -2.0736,  ..., -2.0386, -2.0631, -2.0948]],\n",
       " \n",
       "         [[-2.0302, -2.0085, -1.9920,  ..., -1.9436, -1.9715, -2.0081],\n",
       "          [-2.0303, -2.0086, -1.9921,  ..., -1.9434, -1.9714, -2.0081],\n",
       "          [-2.0303, -2.0085, -1.9921,  ..., -1.9424, -1.9707, -2.0077],\n",
       "          ...,\n",
       "          [-2.0310, -2.0100, -1.9934,  ..., -1.9553, -1.9800, -2.0125],\n",
       "          [-2.0303, -2.0090, -1.9922,  ..., -1.9544, -1.9794, -2.0120],\n",
       "          [-2.0296, -2.0076, -1.9905,  ..., -1.9547, -1.9797, -2.0121]],\n",
       " \n",
       "         [[-1.7989, -1.7774, -1.7609,  ..., -1.7127, -1.7405, -1.7770],\n",
       "          [-1.7990, -1.7775, -1.7610,  ..., -1.7125, -1.7404, -1.7769],\n",
       "          [-1.7990, -1.7774, -1.7610,  ..., -1.7115, -1.7397, -1.7765],\n",
       "          ...,\n",
       "          [-1.7998, -1.7788, -1.7623,  ..., -1.7244, -1.7490, -1.7813],\n",
       "          [-1.7991, -1.7779, -1.7611,  ..., -1.7235, -1.7484, -1.7809],\n",
       "          [-1.7983, -1.7765, -1.7594,  ..., -1.7238, -1.7486, -1.7809]]]),\n",
       " 73.0)"
      ]
     },
     "execution_count": 6,
     "metadata": {},
     "output_type": "execute_result"
    }
   ],
   "execution_count": 6
  },
  {
   "metadata": {
    "ExecuteTime": {
     "end_time": "2024-09-02T12:46:49.937322Z",
     "start_time": "2024-09-02T12:46:49.695491Z"
    }
   },
   "cell_type": "code",
   "source": "transformed[0][0]",
   "id": "97cc07626f58e44d",
   "outputs": [
    {
     "data": {
      "text/plain": [
       "tensor([[[-2.1125, -2.0913, -2.0751,  ..., -2.0278, -2.0550, -2.0909],\n",
       "         [-2.1126, -2.0914, -2.0752,  ..., -2.0276, -2.0550, -2.0909],\n",
       "         [-2.1126, -2.0913, -2.0752,  ..., -2.0266, -2.0543, -2.0905],\n",
       "         ...,\n",
       "         [-2.1133, -2.0927, -2.0765,  ..., -2.0393, -2.0634, -2.0952],\n",
       "         [-2.1126, -2.0918, -2.0754,  ..., -2.0384, -2.0628, -2.0947],\n",
       "         [-2.1119, -2.0904, -2.0736,  ..., -2.0386, -2.0631, -2.0948]],\n",
       "\n",
       "        [[-2.0302, -2.0085, -1.9920,  ..., -1.9436, -1.9715, -2.0081],\n",
       "         [-2.0303, -2.0086, -1.9921,  ..., -1.9434, -1.9714, -2.0081],\n",
       "         [-2.0303, -2.0085, -1.9921,  ..., -1.9424, -1.9707, -2.0077],\n",
       "         ...,\n",
       "         [-2.0310, -2.0100, -1.9934,  ..., -1.9553, -1.9800, -2.0125],\n",
       "         [-2.0303, -2.0090, -1.9922,  ..., -1.9544, -1.9794, -2.0120],\n",
       "         [-2.0296, -2.0076, -1.9905,  ..., -1.9547, -1.9797, -2.0121]],\n",
       "\n",
       "        [[-1.7989, -1.7774, -1.7609,  ..., -1.7127, -1.7405, -1.7770],\n",
       "         [-1.7990, -1.7775, -1.7610,  ..., -1.7125, -1.7404, -1.7769],\n",
       "         [-1.7990, -1.7774, -1.7610,  ..., -1.7115, -1.7397, -1.7765],\n",
       "         ...,\n",
       "         [-1.7998, -1.7788, -1.7623,  ..., -1.7244, -1.7490, -1.7813],\n",
       "         [-1.7991, -1.7779, -1.7611,  ..., -1.7235, -1.7484, -1.7809],\n",
       "         [-1.7983, -1.7765, -1.7594,  ..., -1.7238, -1.7486, -1.7809]]])"
      ]
     },
     "execution_count": 7,
     "metadata": {},
     "output_type": "execute_result"
    }
   ],
   "execution_count": 7
  },
  {
   "metadata": {
    "ExecuteTime": {
     "end_time": "2024-09-02T12:46:50.212755Z",
     "start_time": "2024-09-02T12:46:49.970578Z"
    }
   },
   "cell_type": "code",
   "source": "transformed[0][0].shape",
   "id": "43e01f7cc8505149",
   "outputs": [
    {
     "data": {
      "text/plain": [
       "torch.Size([3, 224, 224])"
      ]
     },
     "execution_count": 8,
     "metadata": {},
     "output_type": "execute_result"
    }
   ],
   "execution_count": 8
  },
  {
   "metadata": {
    "ExecuteTime": {
     "end_time": "2024-09-02T12:46:50.474546Z",
     "start_time": "2024-09-02T12:46:50.244459Z"
    }
   },
   "cell_type": "code",
   "source": "torch.max(transformed[0][0])",
   "id": "d327b9872aa7e2f6",
   "outputs": [
    {
     "data": {
      "text/plain": [
       "tensor(2.6400)"
      ]
     },
     "execution_count": 9,
     "metadata": {},
     "output_type": "execute_result"
    }
   ],
   "execution_count": 9
  },
  {
   "metadata": {
    "ExecuteTime": {
     "end_time": "2024-09-02T12:46:51.142820Z",
     "start_time": "2024-09-02T12:46:50.505309Z"
    }
   },
   "cell_type": "code",
   "source": [
    "# plot the transformed image\n",
    "import matplotlib.pyplot as plt\n",
    "# scale the pixel values back to [0, 255]\n",
    "plt.imshow(transformed[0][0][0,:,:])"
   ],
   "id": "545eb725b33cba49",
   "outputs": [
    {
     "data": {
      "text/plain": [
       "<matplotlib.image.AxesImage at 0x215b19060d0>"
      ]
     },
     "execution_count": 10,
     "metadata": {},
     "output_type": "execute_result"
    },
    {
     "data": {
      "text/plain": [
       "<Figure size 640x480 with 1 Axes>"
      ],
      "image/png": "[encoded data removed]"
     },
     "metadata": {},
     "output_type": "display_data"
    }
   ],
   "execution_count": 10
  },
  {
   "metadata": {
    "ExecuteTime": {
     "end_time": "2024-09-02T12:46:51.378056Z",
     "start_time": "2024-09-02T12:46:51.151003Z"
    }
   },
   "cell_type": "code",
   "source": "type(transformed[0][1])",
   "id": "33d57b82ded94692",
   "outputs": [
    {
     "data": {
      "text/plain": [
       "numpy.float32"
      ]
     },
     "execution_count": 11,
     "metadata": {},
     "output_type": "execute_result"
    }
   ],
   "execution_count": 11
  },
  {
   "metadata": {
    "ExecuteTime": {
     "end_time": "2024-09-02T12:46:51.649153Z",
     "start_time": "2024-09-02T12:46:51.406224Z"
    }
   },
   "cell_type": "code",
   "source": "type(transformed[0][0][0,0,0])",
   "id": "48ecd3e925312181",
   "outputs": [
    {
     "data": {
      "text/plain": [
       "torch.Tensor"
      ]
     },
     "execution_count": 12,
     "metadata": {},
     "output_type": "execute_result"
    }
   ],
   "execution_count": 12
  },
  {
   "metadata": {
    "ExecuteTime": {
     "end_time": "2024-09-02T12:46:51.670648Z",
     "start_time": "2024-09-02T12:46:51.667035Z"
    }
   },
   "cell_type": "code",
   "source": [
    "import torch.nn as nn\n",
    "import torch.optim as optim\n",
    "from torchvision import models\n",
    "from torch.utils.data import DataLoader, Dataset\n",
    "from torchvision.models.resnet import ResNet18_Weights"
   ],
   "id": "861f89829d341c83",
   "outputs": [],
   "execution_count": 13
  },
  {
   "metadata": {
    "ExecuteTime": {
     "end_time": "2024-09-02T12:46:51.877249Z",
     "start_time": "2024-09-02T12:46:51.684454Z"
    }
   },
   "cell_type": "code",
   "source": [
    "# Load a pretrained ResNet model\n",
    "resnet = models.resnet18(weights=ResNet18_Weights.IMAGENET1K_V1)\n",
    "\n",
    "# Modify the fully connected layer\n",
    "num_ftrs = resnet.fc.in_features\n",
    "resnet.fc = nn.Linear(num_ftrs, 1)  # Regression output layer\n",
    "\n",
    "# Print the modified model (optional)\n",
    "print(resnet)"
   ],
   "id": "198405f476fceb3a",
   "outputs": [
    {
     "name": "stdout",
     "output_type": "stream",
     "text": [
      "ResNet(\n",
      "  (conv1): Conv2d(3, 64, kernel_size=(7, 7), stride=(2, 2), padding=(3, 3), bias=False)\n",
      "  (bn1): BatchNorm2d(64, eps=1e-05, momentum=0.1, affine=True, track_running_stats=True)\n",
      "  (relu): ReLU(inplace=True)\n",
      "  (maxpool): MaxPool2d(kernel_size=3, stride=2, padding=1, dilation=1, ceil_mode=False)\n",
      "  (layer1): Sequential(\n",
      "    (0): BasicBlock(\n",
      "      (conv1): Conv2d(64, 64, kernel_size=(3, 3), stride=(1, 1), padding=(1, 1), bias=False)\n",
      "      (bn1): BatchNorm2d(64, eps=1e-05, momentum=0.1, affine=True, track_running_stats=True)\n",
      "      (relu): ReLU(inplace=True)\n",
      "      (conv2): Conv2d(64, 64, kernel_size=(3, 3), stride=(1, 1), padding=(1, 1), bias=False)\n",
      "      (bn2): BatchNorm2d(64, eps=1e-05, momentum=0.1, affine=True, track_running_stats=True)\n",
      "    )\n",
      "    (1): BasicBlock(\n",
      "      (conv1): Conv2d(64, 64, kernel_size=(3, 3), stride=(1, 1), padding=(1, 1), bias=False)\n",
      "      (bn1): BatchNorm2d(64, eps=1e-05, momentum=0.1, affine=True, track_running_stats=True)\n",
      "      (relu): ReLU(inplace=True)\n",
      "      (conv2): Conv2d(64, 64, kernel_size=(3, 3), stride=(1, 1), padding=(1, 1), bias=False)\n",
      "      (bn2): BatchNorm2d(64, eps=1e-05, momentum=0.1, affine=True, track_running_stats=True)\n",
      "    )\n",
      "  )\n",
      "  (layer2): Sequential(\n",
      "    (0): BasicBlock(\n",
      "      (conv1): Conv2d(64, 128, kernel_size=(3, 3), stride=(2, 2), padding=(1, 1), bias=False)\n",
      "      (bn1): BatchNorm2d(128, eps=1e-05, momentum=0.1, affine=True, track_running_stats=True)\n",
      "      (relu): ReLU(inplace=True)\n",
      "      (conv2): Conv2d(128, 128, kernel_size=(3, 3), stride=(1, 1), padding=(1, 1), bias=False)\n",
      "      (bn2): BatchNorm2d(128, eps=1e-05, momentum=0.1, affine=True, track_running_stats=True)\n",
      "      (downsample): Sequential(\n",
      "        (0): Conv2d(64, 128, kernel_size=(1, 1), stride=(2, 2), bias=False)\n",
      "        (1): BatchNorm2d(128, eps=1e-05, momentum=0.1, affine=True, track_running_stats=True)\n",
      "      )\n",
      "    )\n",
      "    (1): BasicBlock(\n",
      "      (conv1): Conv2d(128, 128, kernel_size=(3, 3), stride=(1, 1), padding=(1, 1), bias=False)\n",
      "      (bn1): BatchNorm2d(128, eps=1e-05, momentum=0.1, affine=True, track_running_stats=True)\n",
      "      (relu): ReLU(inplace=True)\n",
      "      (conv2): Conv2d(128, 128, kernel_size=(3, 3), stride=(1, 1), padding=(1, 1), bias=False)\n",
      "      (bn2): BatchNorm2d(128, eps=1e-05, momentum=0.1, affine=True, track_running_stats=True)\n",
      "    )\n",
      "  )\n",
      "  (layer3): Sequential(\n",
      "    (0): BasicBlock(\n",
      "      (conv1): Conv2d(128, 256, kernel_size=(3, 3), stride=(2, 2), padding=(1, 1), bias=False)\n",
      "      (bn1): BatchNorm2d(256, eps=1e-05, momentum=0.1, affine=True, track_running_stats=True)\n",
      "      (relu): ReLU(inplace=True)\n",
      "      (conv2): Conv2d(256, 256, kernel_size=(3, 3), stride=(1, 1), padding=(1, 1), bias=False)\n",
      "      (bn2): BatchNorm2d(256, eps=1e-05, momentum=0.1, affine=True, track_running_stats=True)\n",
      "      (downsample): Sequential(\n",
      "        (0): Conv2d(128, 256, kernel_size=(1, 1), stride=(2, 2), bias=False)\n",
      "        (1): BatchNorm2d(256, eps=1e-05, momentum=0.1, affine=True, track_running_stats=True)\n",
      "      )\n",
      "    )\n",
      "    (1): BasicBlock(\n",
      "      (conv1): Conv2d(256, 256, kernel_size=(3, 3), stride=(1, 1), padding=(1, 1), bias=False)\n",
      "      (bn1): BatchNorm2d(256, eps=1e-05, momentum=0.1, affine=True, track_running_stats=True)\n",
      "      (relu): ReLU(inplace=True)\n",
      "      (conv2): Conv2d(256, 256, kernel_size=(3, 3), stride=(1, 1), padding=(1, 1), bias=False)\n",
      "      (bn2): BatchNorm2d(256, eps=1e-05, momentum=0.1, affine=True, track_running_stats=True)\n",
      "    )\n",
      "  )\n",
      "  (layer4): Sequential(\n",
      "    (0): BasicBlock(\n",
      "      (conv1): Conv2d(256, 512, kernel_size=(3, 3), stride=(2, 2), padding=(1, 1), bias=False)\n",
      "      (bn1): BatchNorm2d(512, eps=1e-05, momentum=0.1, affine=True, track_running_stats=True)\n",
      "      (relu): ReLU(inplace=True)\n",
      "      (conv2): Conv2d(512, 512, kernel_size=(3, 3), stride=(1, 1), padding=(1, 1), bias=False)\n",
      "      (bn2): BatchNorm2d(512, eps=1e-05, momentum=0.1, affine=True, track_running_stats=True)\n",
      "      (downsample): Sequential(\n",
      "        (0): Conv2d(256, 512, kernel_size=(1, 1), stride=(2, 2), bias=False)\n",
      "        (1): BatchNorm2d(512, eps=1e-05, momentum=0.1, affine=True, track_running_stats=True)\n",
      "      )\n",
      "    )\n",
      "    (1): BasicBlock(\n",
      "      (conv1): Conv2d(512, 512, kernel_size=(3, 3), stride=(1, 1), padding=(1, 1), bias=False)\n",
      "      (bn1): BatchNorm2d(512, eps=1e-05, momentum=0.1, affine=True, track_running_stats=True)\n",
      "      (relu): ReLU(inplace=True)\n",
      "      (conv2): Conv2d(512, 512, kernel_size=(3, 3), stride=(1, 1), padding=(1, 1), bias=False)\n",
      "      (bn2): BatchNorm2d(512, eps=1e-05, momentum=0.1, affine=True, track_running_stats=True)\n",
      "    )\n",
      "  )\n",
      "  (avgpool): AdaptiveAvgPool2d(output_size=(1, 1))\n",
      "  (fc): Linear(in_features=512, out_features=1, bias=True)\n",
      ")\n"
     ]
    }
   ],
   "execution_count": 14
  },
  {
   "metadata": {
    "ExecuteTime": {
     "end_time": "2024-09-02T12:46:51.902851Z",
     "start_time": "2024-09-02T12:46:51.897706Z"
    }
   },
   "cell_type": "code",
   "source": [
    "# train/validation split\n",
    "train_set, val_set = torch.utils.data.random_split(transformed, [0.8, 0.2], generator=torch.Generator().manual_seed(42))"
   ],
   "id": "e0b72ee08388e4a6",
   "outputs": [],
   "execution_count": 15
  },
  {
   "metadata": {
    "ExecuteTime": {
     "end_time": "2024-09-02T12:46:52.064226Z",
     "start_time": "2024-09-02T12:46:51.914576Z"
    }
   },
   "cell_type": "code",
   "source": [
    "# Hyperparameters\n",
    "learning_rate = 0.001\n",
    "num_epochs = 20\n",
    "batch_size = 32\n",
    "\n",
    "# Loss function and optimizer\n",
    "criterion = nn.MSELoss()  # Mean Squared Error Loss for regression\n",
    "optimizer = optim.Adam(resnet.parameters(), lr=learning_rate)\n",
    "\n",
    "# Assuming you have your dataset ready\n",
    "train_loader = DataLoader(dataset=train_set, batch_size=batch_size, shuffle=True)\n",
    "val_loader = DataLoader(dataset=val_set, batch_size=batch_size, shuffle=False)\n",
    "\n",
    "# Move model to GPU if available\n",
    "device = torch.device(\"cuda\" if torch.cuda.is_available() else \"cpu\")\n",
    "resnet.to(device)\n",
    "print(\"Device:\", device)"
   ],
   "id": "a34add5e574867d8",
   "outputs": [
    {
     "name": "stdout",
     "output_type": "stream",
     "text": [
      "Device: cuda\n"
     ]
    }
   ],
   "execution_count": 16
  },
  {
   "metadata": {
    "ExecuteTime": {
     "end_time": "2024-09-02T13:17:19.401542Z",
     "start_time": "2024-09-02T12:46:52.071395Z"
    }
   },
   "cell_type": "code",
   "source": [
    "# Initialize lists to store losses\n",
    "train_losses = []\n",
    "val_losses = []\n",
    "\n",
    "# Training and validation loop\n",
    "for epoch in range(num_epochs):\n",
    "    resnet.train()\n",
    "    running_train_loss = 0.0\n",
    "    \n",
    "    # Training loop\n",
    "    for inputs, targets in train_loader:\n",
    "        inputs, targets = inputs.float().to(device), targets.float().to(device)\n",
    "\n",
    "        optimizer.zero_grad()\n",
    "\n",
    "        outputs = resnet(inputs)\n",
    "        loss = criterion(outputs.squeeze(), targets)\n",
    "        loss.backward()\n",
    "        optimizer.step()\n",
    "\n",
    "        running_train_loss += loss.item()\n",
    "\n",
    "    # Compute the average training loss for this epoch\n",
    "    avg_train_loss = running_train_loss / len(train_loader)\n",
    "    train_losses.append(avg_train_loss)\n",
    "    \n",
    "    # Validation loop (no gradients needed)\n",
    "    resnet.eval()\n",
    "    running_val_loss = 0.0\n",
    "    \n",
    "    with torch.no_grad():\n",
    "        for inputs, targets in val_loader:\n",
    "            inputs, targets = inputs.float().to(device), targets.float().to(device)\n",
    "\n",
    "            outputs = resnet(inputs)\n",
    "            loss = criterion(outputs.squeeze(), targets)\n",
    "            running_val_loss += loss.item()\n",
    "\n",
    "    # Compute the average validation loss for this epoch\n",
    "    avg_val_loss = running_val_loss / len(val_loader)\n",
    "    val_losses.append(avg_val_loss)\n",
    "\n",
    "    # Print epoch summary\n",
    "    print(f'Epoch [{epoch+1}/{num_epochs}], Train Loss: {avg_train_loss:.4f}, Val Loss: {avg_val_loss:.4f}')"
   ],
   "id": "7aca45730c591e56",
   "outputs": [
    {
     "name": "stdout",
     "output_type": "stream",
     "text": [
      "Epoch [1/20], Train Loss: 5606.6903, Val Loss: 6120.0127\n",
      "Epoch [2/20], Train Loss: 4673.3620, Val Loss: 2867.6899\n",
      "Epoch [3/20], Train Loss: 3919.2679, Val Loss: 2902.3036\n",
      "Epoch [4/20], Train Loss: 3232.4192, Val Loss: 3347.4222\n",
      "Epoch [5/20], Train Loss: 2548.2864, Val Loss: 2117.9937\n",
      "Epoch [6/20], Train Loss: 1899.1421, Val Loss: 2303.3580\n",
      "Epoch [7/20], Train Loss: 1361.9635, Val Loss: 1521.7005\n",
      "Epoch [8/20], Train Loss: 932.1732, Val Loss: 445.6749\n",
      "Epoch [9/20], Train Loss: 609.4884, Val Loss: 150.4215\n",
      "Epoch [10/20], Train Loss: 347.2059, Val Loss: 1547.4369\n",
      "Epoch [11/20], Train Loss: 207.5025, Val Loss: 143.4379\n",
      "Epoch [12/20], Train Loss: 134.7713, Val Loss: 124.3152\n",
      "Epoch [13/20], Train Loss: 90.9021, Val Loss: 177.1155\n",
      "Epoch [14/20], Train Loss: 44.6747, Val Loss: 150.1958\n",
      "Epoch [15/20], Train Loss: 41.8090, Val Loss: 144.1351\n",
      "Epoch [16/20], Train Loss: 33.2095, Val Loss: 187.4650\n",
      "Epoch [17/20], Train Loss: 18.6447, Val Loss: 42.8444\n",
      "Epoch [18/20], Train Loss: 18.0623, Val Loss: 57.7544\n",
      "Epoch [19/20], Train Loss: 10.3651, Val Loss: 91.6934\n",
      "Epoch [20/20], Train Loss: 11.2425, Val Loss: 41.9364\n"
     ]
    }
   ],
   "execution_count": 17
  },
  {
   "metadata": {
    "ExecuteTime": {
     "end_time": "2024-09-02T13:17:19.637159Z",
     "start_time": "2024-09-02T13:17:19.534384Z"
    }
   },
   "cell_type": "code",
   "source": [
    "# Plot the training and validation loss curves\n",
    "plt.figure(figsize=(10, 5))\n",
    "plt.plot(train_losses, label='Train Loss')\n",
    "plt.plot(val_losses, label='Validation Loss')\n",
    "plt.xlabel('Epoch')\n",
    "plt.ylabel('Loss')\n",
    "plt.title('Training and Validation Loss')\n",
    "plt.legend()\n",
    "plt.show()"
   ],
   "id": "50a50a3802258923",
   "outputs": [
    {
     "data": {
      "text/plain": [
       "<Figure size 1000x500 with 1 Axes>"
      ],
      "image/png": "[encoded data removed]"
     },
     "metadata": {},
     "output_type": "display_data"
    }
   ],
   "execution_count": 18
  },
  {
   "metadata": {
    "ExecuteTime": {
     "end_time": "2024-09-02T13:17:19.711172Z",
     "start_time": "2024-09-02T13:17:19.673486Z"
    }
   },
   "cell_type": "code",
   "source": [
    "# Save the trained model\n",
    "torch.save(resnet.state_dict(), \"resnet18CT_Rudimentary.pth\")"
   ],
   "id": "f57a00414d513c16",
   "outputs": [],
   "execution_count": 19
  }
 ],
 "metadata": {
  "kernelspec": {
   "display_name": "Python 3",
   "language": "python",
   "name": "python3"
  },
  "language_info": {
   "codemirror_mode": {
    "name": "ipython",
    "version": 2
   },
   "file_extension": ".py",
   "mimetype": "text/x-python",
   "name": "python",
   "nbconvert_exporter": "python",
   "pygments_lexer": "ipython2",
   "version": "2.7.6"
  }
 },
 "nbformat": 4,
 "nbformat_minor": 5
}
