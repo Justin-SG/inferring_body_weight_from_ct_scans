{
 "cells": [
  {
   "cell_type": "code",
   "execution_count": 1,
   "metadata": {},
   "outputs": [],
   "source": [
    "#import statements\n",
    "import matplotlib.pyplot as plt\n",
    "import numpy as np\n",
    "import pandas as pd\n",
    "import os\n",
    "\n",
    "from sklearn.inspection import permutation_importance\n",
    "import sklearn.metrics as metrics\n",
    "\n",
    "import xgboost as xgb\n",
    "\n",
    "from sklearn.metrics import classification_report, ConfusionMatrixDisplay, confusion_matrix\n",
    "from sklearn.preprocessing import StandardScaler\n",
    "from sklearn.model_selection import train_test_split\n",
    "from sklearn.model_selection import GridSearchCV\n",
    "from sklearn.tree import DecisionTreeRegressor\n",
    "from sklearn.ensemble import RandomForestClassifier\n",
    "from sklearn.preprocessing import LabelEncoder\n",
    "from sklearn.impute import SimpleImputer"
   ]
  },
  {
   "cell_type": "code",
   "execution_count": 2,
   "metadata": {},
   "outputs": [
    {
     "name": "stdout",
     "output_type": "stream",
     "text": [
      "(87, 12)\n"
     ]
    },
    {
     "data": {
      "text/html": [
       "<div>\n",
       "<style scoped>\n",
       "    .dataframe tbody tr th:only-of-type {\n",
       "        vertical-align: middle;\n",
       "    }\n",
       "\n",
       "    .dataframe tbody tr th {\n",
       "        vertical-align: top;\n",
       "    }\n",
       "\n",
       "    .dataframe thead th {\n",
       "        text-align: right;\n",
       "    }\n",
       "</style>\n",
       "<table border=\"1\" class=\"dataframe\">\n",
       "  <thead>\n",
       "    <tr style=\"text-align: right;\">\n",
       "      <th></th>\n",
       "      <th>PatientId</th>\n",
       "      <th>PatientAge</th>\n",
       "      <th>PatientSex</th>\n",
       "      <th>PatientWeight</th>\n",
       "      <th>PatientSize</th>\n",
       "      <th>BodyPart</th>\n",
       "      <th>Rows</th>\n",
       "      <th>Columns</th>\n",
       "      <th>SliceCount</th>\n",
       "      <th>PixelSpacing</th>\n",
       "      <th>SliceThickness</th>\n",
       "      <th>PixelArrayFile</th>\n",
       "    </tr>\n",
       "  </thead>\n",
       "  <tbody>\n",
       "    <tr>\n",
       "      <th>0</th>\n",
       "      <td>ANONYM-XT8UJZ</td>\n",
       "      <td>64</td>\n",
       "      <td>M</td>\n",
       "      <td>80.0</td>\n",
       "      <td>1.81</td>\n",
       "      <td>Ganzkörper</td>\n",
       "      <td>512</td>\n",
       "      <td>512</td>\n",
       "      <td>487</td>\n",
       "      <td>0.976562</td>\n",
       "      <td>4.0</td>\n",
       "      <td>Scan_1.npy</td>\n",
       "    </tr>\n",
       "    <tr>\n",
       "      <th>1</th>\n",
       "      <td>ANONYM-XT8UJZ_1</td>\n",
       "      <td>56</td>\n",
       "      <td>M</td>\n",
       "      <td>73.0</td>\n",
       "      <td>1.71</td>\n",
       "      <td>Stamm</td>\n",
       "      <td>512</td>\n",
       "      <td>512</td>\n",
       "      <td>567</td>\n",
       "      <td>1.171875</td>\n",
       "      <td>3.0</td>\n",
       "      <td>Scan_2.npy</td>\n",
       "    </tr>\n",
       "    <tr>\n",
       "      <th>4</th>\n",
       "      <td>ANONYM-XT8UJZ_3</td>\n",
       "      <td>77</td>\n",
       "      <td>F</td>\n",
       "      <td>74.0</td>\n",
       "      <td>1.63</td>\n",
       "      <td>Stamm</td>\n",
       "      <td>512</td>\n",
       "      <td>512</td>\n",
       "      <td>567</td>\n",
       "      <td>1.171875</td>\n",
       "      <td>3.0</td>\n",
       "      <td>Scan_5.npy</td>\n",
       "    </tr>\n",
       "    <tr>\n",
       "      <th>6</th>\n",
       "      <td>ANONYM-XT8UJZ_5</td>\n",
       "      <td>76</td>\n",
       "      <td>F</td>\n",
       "      <td>77.0</td>\n",
       "      <td>1.63</td>\n",
       "      <td>Stamm</td>\n",
       "      <td>512</td>\n",
       "      <td>512</td>\n",
       "      <td>568</td>\n",
       "      <td>1.171875</td>\n",
       "      <td>3.0</td>\n",
       "      <td>Scan_7.npy</td>\n",
       "    </tr>\n",
       "    <tr>\n",
       "      <th>10</th>\n",
       "      <td>ANONYM-XT8UJZ_9</td>\n",
       "      <td>51</td>\n",
       "      <td>F</td>\n",
       "      <td>67.0</td>\n",
       "      <td>1.72</td>\n",
       "      <td>Stamm</td>\n",
       "      <td>512</td>\n",
       "      <td>512</td>\n",
       "      <td>567</td>\n",
       "      <td>1.171875</td>\n",
       "      <td>3.0</td>\n",
       "      <td>Scan_11.npy</td>\n",
       "    </tr>\n",
       "  </tbody>\n",
       "</table>\n",
       "</div>"
      ],
      "text/plain": [
       "          PatientId  PatientAge PatientSex  PatientWeight  PatientSize  \\\n",
       "0     ANONYM-XT8UJZ          64          M           80.0         1.81   \n",
       "1   ANONYM-XT8UJZ_1          56          M           73.0         1.71   \n",
       "4   ANONYM-XT8UJZ_3          77          F           74.0         1.63   \n",
       "6   ANONYM-XT8UJZ_5          76          F           77.0         1.63   \n",
       "10  ANONYM-XT8UJZ_9          51          F           67.0         1.72   \n",
       "\n",
       "      BodyPart  Rows  Columns  SliceCount  PixelSpacing  SliceThickness  \\\n",
       "0   Ganzkörper   512      512         487      0.976562             4.0   \n",
       "1        Stamm   512      512         567      1.171875             3.0   \n",
       "4        Stamm   512      512         567      1.171875             3.0   \n",
       "6        Stamm   512      512         568      1.171875             3.0   \n",
       "10       Stamm   512      512         567      1.171875             3.0   \n",
       "\n",
       "   PixelArrayFile  \n",
       "0      Scan_1.npy  \n",
       "1      Scan_2.npy  \n",
       "4      Scan_5.npy  \n",
       "6      Scan_7.npy  \n",
       "10    Scan_11.npy  "
      ]
     },
     "execution_count": 2,
     "metadata": {},
     "output_type": "execute_result"
    }
   ],
   "source": [
    "# Load dicom dataframe\n",
    "df = pd.read_feather('../../Data/cleaned_dicom_df.feather')\n",
    "\n",
    "# Get all lines where BodyPart is Ganzkörper and SliceCount is greater than 600\n",
    "df = df[((df['BodyPart'] == 'Ganzkörper') | (df['BodyPart'] == 'Stamm')) & (df['SliceCount'] > 400)]\n",
    "\n",
    "print(df.shape)\n",
    "df.head()"
   ]
  },
  {
   "cell_type": "code",
   "execution_count": 3,
   "metadata": {},
   "outputs": [],
   "source": [
    "# Load Pixelarray\n",
    "def load_pixel_array(scan_id):\n",
    "    path = f'../../Data/PixelArray/{scan_id}'\n",
    "    return np.load(path)"
   ]
  },
  {
   "cell_type": "code",
   "execution_count": 4,
   "metadata": {},
   "outputs": [],
   "source": [
    "# make of each pixel array a histogram\n",
    "def make_histogram(pixel_array):\n",
    "    return np.histogram(pixel_array, bins=256, range=(0, 256))[0]"
   ]
  },
  {
   "cell_type": "code",
   "execution_count": 5,
   "metadata": {},
   "outputs": [],
   "source": [
    "X = df['PixelArrayFile'].apply(load_pixel_array).map(make_histogram)\n",
    "y = df['PatientWeight']\n",
    "X_train, X_test, y_train, y_test = train_test_split(X, y, test_size=0.2, random_state=42)"
   ]
  },
  {
   "cell_type": "code",
   "execution_count": 7,
   "metadata": {},
   "outputs": [
    {
     "name": "stdout",
     "output_type": "stream",
     "text": [
      "Mean Absolute Error: 7.947758144802517\n"
     ]
    }
   ],
   "source": [
    "# train a xgboost model with mean absolute error as objective\n",
    "model = xgb.XGBRegressor(objective='reg:squarederror')\n",
    "model.fit(np.stack(X_train.values), y_train)\n",
    "\n",
    "# predict the test set\n",
    "y_pred = model.predict(np.stack(X_test.values))\n",
    "\n",
    "# calculate the mean absolute error\n",
    "mae = metrics.mean_absolute_error(y_test, y_pred)\n",
    "print(f'Mean Absolute Error: {mae}')"
   ]
  },
  {
   "cell_type": "code",
   "execution_count": 28,
   "metadata": {},
   "outputs": [
    {
     "data": {
      "image/png": "[encoded data removed]",
      "text/plain": [
       "<Figure size 640x480 with 1 Axes>"
      ]
     },
     "metadata": {},
     "output_type": "display_data"
    }
   ],
   "source": [
    "plt.scatter(y_test, y_pred, c=np.abs(y_test - y_pred), cmap='coolwarm')\n",
    "plt.xlabel('True Values')\n",
    "plt.ylabel('Predictions')\n",
    "plt.show()"
   ]
  },
  {
   "cell_type": "code",
   "execution_count": 33,
   "metadata": {},
   "outputs": [
    {
     "data": {
      "image/png": "[encoded data removed]",
      "text/plain": [
       "<Figure size 640x480 with 1 Axes>"
      ]
     },
     "metadata": {},
     "output_type": "display_data"
    }
   ],
   "source": [
    "# make a histogram of the errors\n",
    "plt.hist(y_test - y_pred, bins=20)\n",
    "plt.xlabel('Error')\n",
    "plt.ylabel('Count')\n",
    "plt.show()"
   ]
  }
 ],
 "metadata": {
  "kernelspec": {
   "display_name": "R_D",
   "language": "python",
   "name": "python3"
  },
  "language_info": {
   "codemirror_mode": {
    "name": "ipython",
    "version": 3
   },
   "file_extension": ".py",
   "mimetype": "text/x-python",
   "name": "python",
   "nbconvert_exporter": "python",
   "pygments_lexer": "ipython3",
   "version": "3.11.9"
  }
 },
 "nbformat": 4,
 "nbformat_minor": 2
}
